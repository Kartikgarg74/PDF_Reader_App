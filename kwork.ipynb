{
 "cells": [
  {
   "cell_type": "code",
   "execution_count": 2,
   "id": "733f0059-4d6e-4944-8ebb-026b4436e344",
   "metadata": {},
   "outputs": [
    {
     "name": "stdout",
     "output_type": "stream",
     "text": [
      "Defaulting to user installation because normal site-packages is not writeable\n",
      "Requirement already satisfied: faiss-cpu in c:\\users\\deepa\\appdata\\roaming\\python\\python312\\site-packages (1.9.0)\n",
      "Requirement already satisfied: sentence-transformers in c:\\users\\deepa\\appdata\\roaming\\python\\python312\\site-packages (3.2.0)\n",
      "Requirement already satisfied: cohere in c:\\users\\deepa\\appdata\\roaming\\python\\python312\\site-packages (5.11.0)\n",
      "Requirement already satisfied: numpy<3.0,>=1.25.0 in c:\\users\\deepa\\appdata\\roaming\\python\\python312\\site-packages (from faiss-cpu) (1.26.3)\n",
      "Requirement already satisfied: packaging in c:\\users\\deepa\\appdata\\roaming\\python\\python312\\site-packages (from faiss-cpu) (24.1)\n",
      "Requirement already satisfied: transformers<5.0.0,>=4.41.0 in c:\\users\\deepa\\appdata\\roaming\\python\\python312\\site-packages (from sentence-transformers) (4.45.1)\n",
      "Requirement already satisfied: tqdm in c:\\users\\deepa\\appdata\\roaming\\python\\python312\\site-packages (from sentence-transformers) (4.66.5)\n",
      "Requirement already satisfied: torch>=1.11.0 in c:\\users\\deepa\\appdata\\roaming\\python\\python312\\site-packages (from sentence-transformers) (2.4.1+cu124)\n",
      "Requirement already satisfied: scikit-learn in c:\\users\\deepa\\appdata\\roaming\\python\\python312\\site-packages (from sentence-transformers) (1.5.2)\n",
      "Requirement already satisfied: scipy in c:\\users\\deepa\\appdata\\roaming\\python\\python312\\site-packages (from sentence-transformers) (1.14.1)\n",
      "Requirement already satisfied: huggingface-hub>=0.20.0 in c:\\users\\deepa\\appdata\\roaming\\python\\python312\\site-packages (from sentence-transformers) (0.25.1)\n",
      "Requirement already satisfied: Pillow in c:\\users\\deepa\\appdata\\roaming\\python\\python312\\site-packages (from sentence-transformers) (10.2.0)\n",
      "Requirement already satisfied: boto3<2.0.0,>=1.34.0 in c:\\users\\deepa\\appdata\\roaming\\python\\python312\\site-packages (from cohere) (1.35.41)\n",
      "Requirement already satisfied: fastavro<2.0.0,>=1.9.4 in c:\\users\\deepa\\appdata\\roaming\\python\\python312\\site-packages (from cohere) (1.9.7)\n",
      "Requirement already satisfied: httpx>=0.21.2 in c:\\users\\deepa\\appdata\\roaming\\python\\python312\\site-packages (from cohere) (0.27.2)\n",
      "Requirement already satisfied: httpx-sse==0.4.0 in c:\\users\\deepa\\appdata\\roaming\\python\\python312\\site-packages (from cohere) (0.4.0)\n",
      "Requirement already satisfied: parameterized<0.10.0,>=0.9.0 in c:\\users\\deepa\\appdata\\roaming\\python\\python312\\site-packages (from cohere) (0.9.0)\n",
      "Requirement already satisfied: pydantic>=1.9.2 in c:\\users\\deepa\\appdata\\roaming\\python\\python312\\site-packages (from cohere) (2.9.2)\n",
      "Requirement already satisfied: pydantic-core<3.0.0,>=2.18.2 in c:\\users\\deepa\\appdata\\roaming\\python\\python312\\site-packages (from cohere) (2.23.4)\n",
      "Requirement already satisfied: requests<3.0.0,>=2.0.0 in c:\\users\\deepa\\appdata\\roaming\\python\\python312\\site-packages (from cohere) (2.32.3)\n",
      "Requirement already satisfied: sagemaker<3.0.0,>=2.232.1 in c:\\users\\deepa\\appdata\\roaming\\python\\python312\\site-packages (from cohere) (2.232.2)\n",
      "Requirement already satisfied: tokenizers<1,>=0.15 in c:\\users\\deepa\\appdata\\roaming\\python\\python312\\site-packages (from cohere) (0.20.0)\n",
      "Requirement already satisfied: types-requests<3.0.0,>=2.0.0 in c:\\users\\deepa\\appdata\\roaming\\python\\python312\\site-packages (from cohere) (2.32.0.20241016)\n",
      "Requirement already satisfied: typing_extensions>=4.0.0 in c:\\users\\deepa\\appdata\\roaming\\python\\python312\\site-packages (from cohere) (4.12.2)\n",
      "Requirement already satisfied: botocore<1.36.0,>=1.35.41 in c:\\users\\deepa\\appdata\\roaming\\python\\python312\\site-packages (from boto3<2.0.0,>=1.34.0->cohere) (1.35.41)\n",
      "Requirement already satisfied: jmespath<2.0.0,>=0.7.1 in c:\\users\\deepa\\appdata\\roaming\\python\\python312\\site-packages (from boto3<2.0.0,>=1.34.0->cohere) (1.0.1)\n",
      "Requirement already satisfied: s3transfer<0.11.0,>=0.10.0 in c:\\users\\deepa\\appdata\\roaming\\python\\python312\\site-packages (from boto3<2.0.0,>=1.34.0->cohere) (0.10.3)\n",
      "Requirement already satisfied: anyio in c:\\users\\deepa\\appdata\\roaming\\python\\python312\\site-packages (from httpx>=0.21.2->cohere) (4.4.0)\n",
      "Requirement already satisfied: certifi in c:\\users\\deepa\\appdata\\roaming\\python\\python312\\site-packages (from httpx>=0.21.2->cohere) (2024.8.30)\n",
      "Requirement already satisfied: httpcore==1.* in c:\\users\\deepa\\appdata\\roaming\\python\\python312\\site-packages (from httpx>=0.21.2->cohere) (1.0.5)\n",
      "Requirement already satisfied: idna in c:\\users\\deepa\\appdata\\roaming\\python\\python312\\site-packages (from httpx>=0.21.2->cohere) (3.8)\n",
      "Requirement already satisfied: sniffio in c:\\users\\deepa\\appdata\\roaming\\python\\python312\\site-packages (from httpx>=0.21.2->cohere) (1.3.1)\n",
      "Requirement already satisfied: h11<0.15,>=0.13 in c:\\users\\deepa\\appdata\\roaming\\python\\python312\\site-packages (from httpcore==1.*->httpx>=0.21.2->cohere) (0.14.0)\n",
      "Requirement already satisfied: filelock in c:\\users\\deepa\\appdata\\roaming\\python\\python312\\site-packages (from huggingface-hub>=0.20.0->sentence-transformers) (3.13.1)\n",
      "Requirement already satisfied: fsspec>=2023.5.0 in c:\\users\\deepa\\appdata\\roaming\\python\\python312\\site-packages (from huggingface-hub>=0.20.0->sentence-transformers) (2024.2.0)\n",
      "Requirement already satisfied: pyyaml>=5.1 in c:\\users\\deepa\\appdata\\roaming\\python\\python312\\site-packages (from huggingface-hub>=0.20.0->sentence-transformers) (6.0.2)\n",
      "Requirement already satisfied: annotated-types>=0.6.0 in c:\\users\\deepa\\appdata\\roaming\\python\\python312\\site-packages (from pydantic>=1.9.2->cohere) (0.7.0)\n",
      "Requirement already satisfied: charset-normalizer<4,>=2 in c:\\users\\deepa\\appdata\\roaming\\python\\python312\\site-packages (from requests<3.0.0,>=2.0.0->cohere) (3.3.2)\n",
      "Requirement already satisfied: urllib3<3,>=1.21.1 in c:\\users\\deepa\\appdata\\roaming\\python\\python312\\site-packages (from requests<3.0.0,>=2.0.0->cohere) (2.2.2)\n",
      "Requirement already satisfied: attrs<24,>=23.1.0 in c:\\users\\deepa\\appdata\\roaming\\python\\python312\\site-packages (from sagemaker<3.0.0,>=2.232.1->cohere) (23.2.0)\n",
      "Requirement already satisfied: cloudpickle==2.2.1 in c:\\users\\deepa\\appdata\\roaming\\python\\python312\\site-packages (from sagemaker<3.0.0,>=2.232.1->cohere) (2.2.1)\n",
      "Requirement already satisfied: docker in c:\\users\\deepa\\appdata\\roaming\\python\\python312\\site-packages (from sagemaker<3.0.0,>=2.232.1->cohere) (7.1.0)\n",
      "Requirement already satisfied: google-pasta in c:\\users\\deepa\\appdata\\roaming\\python\\python312\\site-packages (from sagemaker<3.0.0,>=2.232.1->cohere) (0.2.0)\n",
      "Requirement already satisfied: importlib-metadata<7.0,>=1.4.0 in c:\\users\\deepa\\appdata\\roaming\\python\\python312\\site-packages (from sagemaker<3.0.0,>=2.232.1->cohere) (6.11.0)\n",
      "Requirement already satisfied: jsonschema in c:\\users\\deepa\\appdata\\roaming\\python\\python312\\site-packages (from sagemaker<3.0.0,>=2.232.1->cohere) (4.23.0)\n",
      "Requirement already satisfied: pandas in c:\\users\\deepa\\appdata\\roaming\\python\\python312\\site-packages (from sagemaker<3.0.0,>=2.232.1->cohere) (2.2.2)\n",
      "Requirement already satisfied: pathos in c:\\users\\deepa\\appdata\\roaming\\python\\python312\\site-packages (from sagemaker<3.0.0,>=2.232.1->cohere) (0.3.3)\n",
      "Requirement already satisfied: platformdirs in c:\\users\\deepa\\appdata\\roaming\\python\\python312\\site-packages (from sagemaker<3.0.0,>=2.232.1->cohere) (4.3.2)\n",
      "Requirement already satisfied: protobuf<5.0,>=3.12 in c:\\users\\deepa\\appdata\\roaming\\python\\python312\\site-packages (from sagemaker<3.0.0,>=2.232.1->cohere) (4.25.5)\n",
      "Requirement already satisfied: psutil in c:\\users\\deepa\\appdata\\roaming\\python\\python312\\site-packages (from sagemaker<3.0.0,>=2.232.1->cohere) (6.0.0)\n",
      "Requirement already satisfied: sagemaker-core<2.0.0,>=1.0.0 in c:\\users\\deepa\\appdata\\roaming\\python\\python312\\site-packages (from sagemaker<3.0.0,>=2.232.1->cohere) (1.0.10)\n",
      "Requirement already satisfied: sagemaker-mlflow in c:\\users\\deepa\\appdata\\roaming\\python\\python312\\site-packages (from sagemaker<3.0.0,>=2.232.1->cohere) (0.1.0)\n",
      "Requirement already satisfied: schema in c:\\users\\deepa\\appdata\\roaming\\python\\python312\\site-packages (from sagemaker<3.0.0,>=2.232.1->cohere) (0.7.7)\n",
      "Requirement already satisfied: smdebug-rulesconfig==1.0.1 in c:\\users\\deepa\\appdata\\roaming\\python\\python312\\site-packages (from sagemaker<3.0.0,>=2.232.1->cohere) (1.0.1)\n",
      "Requirement already satisfied: tblib<4,>=1.7.0 in c:\\users\\deepa\\appdata\\roaming\\python\\python312\\site-packages (from sagemaker<3.0.0,>=2.232.1->cohere) (3.0.0)\n",
      "Requirement already satisfied: sympy in c:\\users\\deepa\\appdata\\roaming\\python\\python312\\site-packages (from torch>=1.11.0->sentence-transformers) (1.12)\n",
      "Requirement already satisfied: networkx in c:\\users\\deepa\\appdata\\roaming\\python\\python312\\site-packages (from torch>=1.11.0->sentence-transformers) (3.2.1)\n",
      "Requirement already satisfied: jinja2 in c:\\users\\deepa\\appdata\\roaming\\python\\python312\\site-packages (from torch>=1.11.0->sentence-transformers) (3.1.3)\n",
      "Requirement already satisfied: setuptools in c:\\users\\deepa\\appdata\\roaming\\python\\python312\\site-packages (from torch>=1.11.0->sentence-transformers) (70.0.0)\n",
      "Requirement already satisfied: colorama in c:\\users\\deepa\\appdata\\roaming\\python\\python312\\site-packages (from tqdm->sentence-transformers) (0.4.6)\n",
      "Requirement already satisfied: regex!=2019.12.17 in c:\\users\\deepa\\appdata\\roaming\\python\\python312\\site-packages (from transformers<5.0.0,>=4.41.0->sentence-transformers) (2024.9.11)\n",
      "Requirement already satisfied: safetensors>=0.4.1 in c:\\users\\deepa\\appdata\\roaming\\python\\python312\\site-packages (from transformers<5.0.0,>=4.41.0->sentence-transformers) (0.4.5)\n",
      "Requirement already satisfied: joblib>=1.2.0 in c:\\users\\deepa\\appdata\\roaming\\python\\python312\\site-packages (from scikit-learn->sentence-transformers) (1.4.2)\n",
      "Requirement already satisfied: threadpoolctl>=3.1.0 in c:\\users\\deepa\\appdata\\roaming\\python\\python312\\site-packages (from scikit-learn->sentence-transformers) (3.5.0)\n",
      "Requirement already satisfied: python-dateutil<3.0.0,>=2.1 in c:\\users\\deepa\\appdata\\roaming\\python\\python312\\site-packages (from botocore<1.36.0,>=1.35.41->boto3<2.0.0,>=1.34.0->cohere) (2.9.0.post0)\n",
      "Requirement already satisfied: zipp>=0.5 in c:\\users\\deepa\\appdata\\roaming\\python\\python312\\site-packages (from importlib-metadata<7.0,>=1.4.0->sagemaker<3.0.0,>=2.232.1->cohere) (3.20.2)\n",
      "Requirement already satisfied: rich<14.0.0,>=13.0.0 in c:\\users\\deepa\\appdata\\roaming\\python\\python312\\site-packages (from sagemaker-core<2.0.0,>=1.0.0->sagemaker<3.0.0,>=2.232.1->cohere) (13.8.0)\n",
      "Requirement already satisfied: mock<5.0,>4.0 in c:\\users\\deepa\\appdata\\roaming\\python\\python312\\site-packages (from sagemaker-core<2.0.0,>=1.0.0->sagemaker<3.0.0,>=2.232.1->cohere) (4.0.3)\n",
      "Requirement already satisfied: jsonschema-specifications>=2023.03.6 in c:\\users\\deepa\\appdata\\roaming\\python\\python312\\site-packages (from jsonschema->sagemaker<3.0.0,>=2.232.1->cohere) (2023.12.1)\n",
      "Requirement already satisfied: referencing>=0.28.4 in c:\\users\\deepa\\appdata\\roaming\\python\\python312\\site-packages (from jsonschema->sagemaker<3.0.0,>=2.232.1->cohere) (0.35.1)\n",
      "Requirement already satisfied: rpds-py>=0.7.1 in c:\\users\\deepa\\appdata\\roaming\\python\\python312\\site-packages (from jsonschema->sagemaker<3.0.0,>=2.232.1->cohere) (0.20.0)\n",
      "Requirement already satisfied: pywin32>=304 in c:\\users\\deepa\\appdata\\roaming\\python\\python312\\site-packages (from docker->sagemaker<3.0.0,>=2.232.1->cohere) (306)\n",
      "Requirement already satisfied: six in c:\\users\\deepa\\appdata\\roaming\\python\\python312\\site-packages (from google-pasta->sagemaker<3.0.0,>=2.232.1->cohere) (1.16.0)\n",
      "Requirement already satisfied: MarkupSafe>=2.0 in c:\\users\\deepa\\appdata\\roaming\\python\\python312\\site-packages (from jinja2->torch>=1.11.0->sentence-transformers) (2.1.5)\n",
      "Requirement already satisfied: pytz>=2020.1 in c:\\users\\deepa\\appdata\\roaming\\python\\python312\\site-packages (from pandas->sagemaker<3.0.0,>=2.232.1->cohere) (2024.1)\n",
      "Requirement already satisfied: tzdata>=2022.7 in c:\\users\\deepa\\appdata\\roaming\\python\\python312\\site-packages (from pandas->sagemaker<3.0.0,>=2.232.1->cohere) (2024.1)\n",
      "Requirement already satisfied: ppft>=1.7.6.9 in c:\\users\\deepa\\appdata\\roaming\\python\\python312\\site-packages (from pathos->sagemaker<3.0.0,>=2.232.1->cohere) (1.7.6.9)\n",
      "Requirement already satisfied: dill>=0.3.9 in c:\\users\\deepa\\appdata\\roaming\\python\\python312\\site-packages (from pathos->sagemaker<3.0.0,>=2.232.1->cohere) (0.3.9)\n",
      "Requirement already satisfied: pox>=0.3.5 in c:\\users\\deepa\\appdata\\roaming\\python\\python312\\site-packages (from pathos->sagemaker<3.0.0,>=2.232.1->cohere) (0.3.5)\n",
      "Requirement already satisfied: multiprocess>=0.70.17 in c:\\users\\deepa\\appdata\\roaming\\python\\python312\\site-packages (from pathos->sagemaker<3.0.0,>=2.232.1->cohere) (0.70.17)\n",
      "Requirement already satisfied: mlflow>=2.8 in c:\\users\\deepa\\appdata\\roaming\\python\\python312\\site-packages (from sagemaker-mlflow->sagemaker<3.0.0,>=2.232.1->cohere) (2.17.0)\n",
      "Requirement already satisfied: mpmath>=0.19 in c:\\users\\deepa\\appdata\\roaming\\python\\python312\\site-packages (from sympy->torch>=1.11.0->sentence-transformers) (1.3.0)\n",
      "Requirement already satisfied: mlflow-skinny==2.17.0 in c:\\users\\deepa\\appdata\\roaming\\python\\python312\\site-packages (from mlflow>=2.8->sagemaker-mlflow->sagemaker<3.0.0,>=2.232.1->cohere) (2.17.0)\n",
      "Requirement already satisfied: Flask<4 in c:\\users\\deepa\\appdata\\roaming\\python\\python312\\site-packages (from mlflow>=2.8->sagemaker-mlflow->sagemaker<3.0.0,>=2.232.1->cohere) (3.0.3)\n",
      "Requirement already satisfied: alembic!=1.10.0,<2 in c:\\users\\deepa\\appdata\\roaming\\python\\python312\\site-packages (from mlflow>=2.8->sagemaker-mlflow->sagemaker<3.0.0,>=2.232.1->cohere) (1.13.3)\n",
      "Requirement already satisfied: graphene<4 in c:\\users\\deepa\\appdata\\roaming\\python\\python312\\site-packages (from mlflow>=2.8->sagemaker-mlflow->sagemaker<3.0.0,>=2.232.1->cohere) (3.3)\n",
      "Requirement already satisfied: markdown<4,>=3.3 in c:\\users\\deepa\\appdata\\roaming\\python\\python312\\site-packages (from mlflow>=2.8->sagemaker-mlflow->sagemaker<3.0.0,>=2.232.1->cohere) (3.7)\n",
      "Requirement already satisfied: matplotlib<4 in c:\\users\\deepa\\appdata\\roaming\\python\\python312\\site-packages (from mlflow>=2.8->sagemaker-mlflow->sagemaker<3.0.0,>=2.232.1->cohere) (3.9.2)\n",
      "Requirement already satisfied: pyarrow<18,>=4.0.0 in c:\\users\\deepa\\appdata\\roaming\\python\\python312\\site-packages (from mlflow>=2.8->sagemaker-mlflow->sagemaker<3.0.0,>=2.232.1->cohere) (17.0.0)\n",
      "Requirement already satisfied: sqlalchemy<3,>=1.4.0 in c:\\users\\deepa\\appdata\\roaming\\python\\python312\\site-packages (from mlflow>=2.8->sagemaker-mlflow->sagemaker<3.0.0,>=2.232.1->cohere) (2.0.35)\n",
      "Requirement already satisfied: waitress<4 in c:\\users\\deepa\\appdata\\roaming\\python\\python312\\site-packages (from mlflow>=2.8->sagemaker-mlflow->sagemaker<3.0.0,>=2.232.1->cohere) (3.0.0)\n",
      "Requirement already satisfied: cachetools<6,>=5.0.0 in c:\\users\\deepa\\appdata\\roaming\\python\\python312\\site-packages (from mlflow-skinny==2.17.0->mlflow>=2.8->sagemaker-mlflow->sagemaker<3.0.0,>=2.232.1->cohere) (5.5.0)\n",
      "Requirement already satisfied: click<9,>=7.0 in c:\\users\\deepa\\appdata\\roaming\\python\\python312\\site-packages (from mlflow-skinny==2.17.0->mlflow>=2.8->sagemaker-mlflow->sagemaker<3.0.0,>=2.232.1->cohere) (8.1.7)\n",
      "Requirement already satisfied: databricks-sdk<1,>=0.20.0 in c:\\users\\deepa\\appdata\\roaming\\python\\python312\\site-packages (from mlflow-skinny==2.17.0->mlflow>=2.8->sagemaker-mlflow->sagemaker<3.0.0,>=2.232.1->cohere) (0.34.0)\n",
      "Requirement already satisfied: gitpython<4,>=3.1.9 in c:\\users\\deepa\\appdata\\roaming\\python\\python312\\site-packages (from mlflow-skinny==2.17.0->mlflow>=2.8->sagemaker-mlflow->sagemaker<3.0.0,>=2.232.1->cohere) (3.1.43)\n",
      "Requirement already satisfied: opentelemetry-api<3,>=1.9.0 in c:\\users\\deepa\\appdata\\roaming\\python\\python312\\site-packages (from mlflow-skinny==2.17.0->mlflow>=2.8->sagemaker-mlflow->sagemaker<3.0.0,>=2.232.1->cohere) (1.27.0)\n",
      "Requirement already satisfied: opentelemetry-sdk<3,>=1.9.0 in c:\\users\\deepa\\appdata\\roaming\\python\\python312\\site-packages (from mlflow-skinny==2.17.0->mlflow>=2.8->sagemaker-mlflow->sagemaker<3.0.0,>=2.232.1->cohere) (1.27.0)\n",
      "Requirement already satisfied: sqlparse<1,>=0.4.0 in c:\\users\\deepa\\appdata\\roaming\\python\\python312\\site-packages (from mlflow-skinny==2.17.0->mlflow>=2.8->sagemaker-mlflow->sagemaker<3.0.0,>=2.232.1->cohere) (0.5.1)\n",
      "Requirement already satisfied: markdown-it-py>=2.2.0 in c:\\users\\deepa\\appdata\\roaming\\python\\python312\\site-packages (from rich<14.0.0,>=13.0.0->sagemaker-core<2.0.0,>=1.0.0->sagemaker<3.0.0,>=2.232.1->cohere) (3.0.0)\n",
      "Requirement already satisfied: pygments<3.0.0,>=2.13.0 in c:\\users\\deepa\\appdata\\roaming\\python\\python312\\site-packages (from rich<14.0.0,>=13.0.0->sagemaker-core<2.0.0,>=1.0.0->sagemaker<3.0.0,>=2.232.1->cohere) (2.18.0)\n",
      "Requirement already satisfied: Mako in c:\\users\\deepa\\appdata\\roaming\\python\\python312\\site-packages (from alembic!=1.10.0,<2->mlflow>=2.8->sagemaker-mlflow->sagemaker<3.0.0,>=2.232.1->cohere) (1.3.5)\n",
      "Requirement already satisfied: Werkzeug>=3.0.0 in c:\\users\\deepa\\appdata\\roaming\\python\\python312\\site-packages (from Flask<4->mlflow>=2.8->sagemaker-mlflow->sagemaker<3.0.0,>=2.232.1->cohere) (3.0.4)\n",
      "Requirement already satisfied: itsdangerous>=2.1.2 in c:\\users\\deepa\\appdata\\roaming\\python\\python312\\site-packages (from Flask<4->mlflow>=2.8->sagemaker-mlflow->sagemaker<3.0.0,>=2.232.1->cohere) (2.2.0)\n",
      "Requirement already satisfied: blinker>=1.6.2 in c:\\users\\deepa\\appdata\\roaming\\python\\python312\\site-packages (from Flask<4->mlflow>=2.8->sagemaker-mlflow->sagemaker<3.0.0,>=2.232.1->cohere) (1.8.2)\n",
      "Requirement already satisfied: graphql-core<3.3,>=3.1 in c:\\users\\deepa\\appdata\\roaming\\python\\python312\\site-packages (from graphene<4->mlflow>=2.8->sagemaker-mlflow->sagemaker<3.0.0,>=2.232.1->cohere) (3.2.5)\n",
      "Requirement already satisfied: graphql-relay<3.3,>=3.1 in c:\\users\\deepa\\appdata\\roaming\\python\\python312\\site-packages (from graphene<4->mlflow>=2.8->sagemaker-mlflow->sagemaker<3.0.0,>=2.232.1->cohere) (3.2.0)\n",
      "Requirement already satisfied: aniso8601<10,>=8 in c:\\users\\deepa\\appdata\\roaming\\python\\python312\\site-packages (from graphene<4->mlflow>=2.8->sagemaker-mlflow->sagemaker<3.0.0,>=2.232.1->cohere) (9.0.1)\n",
      "Requirement already satisfied: mdurl~=0.1 in c:\\users\\deepa\\appdata\\roaming\\python\\python312\\site-packages (from markdown-it-py>=2.2.0->rich<14.0.0,>=13.0.0->sagemaker-core<2.0.0,>=1.0.0->sagemaker<3.0.0,>=2.232.1->cohere) (0.1.2)\n",
      "Requirement already satisfied: contourpy>=1.0.1 in c:\\users\\deepa\\appdata\\roaming\\python\\python312\\site-packages (from matplotlib<4->mlflow>=2.8->sagemaker-mlflow->sagemaker<3.0.0,>=2.232.1->cohere) (1.3.0)\n",
      "Requirement already satisfied: cycler>=0.10 in c:\\users\\deepa\\appdata\\roaming\\python\\python312\\site-packages (from matplotlib<4->mlflow>=2.8->sagemaker-mlflow->sagemaker<3.0.0,>=2.232.1->cohere) (0.12.1)\n",
      "Requirement already satisfied: fonttools>=4.22.0 in c:\\users\\deepa\\appdata\\roaming\\python\\python312\\site-packages (from matplotlib<4->mlflow>=2.8->sagemaker-mlflow->sagemaker<3.0.0,>=2.232.1->cohere) (4.53.1)\n",
      "Requirement already satisfied: kiwisolver>=1.3.1 in c:\\users\\deepa\\appdata\\roaming\\python\\python312\\site-packages (from matplotlib<4->mlflow>=2.8->sagemaker-mlflow->sagemaker<3.0.0,>=2.232.1->cohere) (1.4.7)\n",
      "Requirement already satisfied: pyparsing>=2.3.1 in c:\\users\\deepa\\appdata\\roaming\\python\\python312\\site-packages (from matplotlib<4->mlflow>=2.8->sagemaker-mlflow->sagemaker<3.0.0,>=2.232.1->cohere) (3.1.4)\n",
      "Requirement already satisfied: greenlet!=0.4.17 in c:\\users\\deepa\\appdata\\roaming\\python\\python312\\site-packages (from sqlalchemy<3,>=1.4.0->mlflow>=2.8->sagemaker-mlflow->sagemaker<3.0.0,>=2.232.1->cohere) (3.1.1)\n",
      "Requirement already satisfied: google-auth~=2.0 in c:\\users\\deepa\\appdata\\roaming\\python\\python312\\site-packages (from databricks-sdk<1,>=0.20.0->mlflow-skinny==2.17.0->mlflow>=2.8->sagemaker-mlflow->sagemaker<3.0.0,>=2.232.1->cohere) (2.35.0)\n",
      "Requirement already satisfied: gitdb<5,>=4.0.1 in c:\\users\\deepa\\appdata\\roaming\\python\\python312\\site-packages (from gitpython<4,>=3.1.9->mlflow-skinny==2.17.0->mlflow>=2.8->sagemaker-mlflow->sagemaker<3.0.0,>=2.232.1->cohere) (4.0.11)\n",
      "Requirement already satisfied: deprecated>=1.2.6 in c:\\users\\deepa\\appdata\\roaming\\python\\python312\\site-packages (from opentelemetry-api<3,>=1.9.0->mlflow-skinny==2.17.0->mlflow>=2.8->sagemaker-mlflow->sagemaker<3.0.0,>=2.232.1->cohere) (1.2.14)\n",
      "Requirement already satisfied: opentelemetry-semantic-conventions==0.48b0 in c:\\users\\deepa\\appdata\\roaming\\python\\python312\\site-packages (from opentelemetry-sdk<3,>=1.9.0->mlflow-skinny==2.17.0->mlflow>=2.8->sagemaker-mlflow->sagemaker<3.0.0,>=2.232.1->cohere) (0.48b0)\n",
      "Requirement already satisfied: wrapt<2,>=1.10 in c:\\users\\deepa\\appdata\\roaming\\python\\python312\\site-packages (from deprecated>=1.2.6->opentelemetry-api<3,>=1.9.0->mlflow-skinny==2.17.0->mlflow>=2.8->sagemaker-mlflow->sagemaker<3.0.0,>=2.232.1->cohere) (1.16.0)\n",
      "Requirement already satisfied: smmap<6,>=3.0.1 in c:\\users\\deepa\\appdata\\roaming\\python\\python312\\site-packages (from gitdb<5,>=4.0.1->gitpython<4,>=3.1.9->mlflow-skinny==2.17.0->mlflow>=2.8->sagemaker-mlflow->sagemaker<3.0.0,>=2.232.1->cohere) (5.0.1)\n",
      "Requirement already satisfied: pyasn1-modules>=0.2.1 in c:\\users\\deepa\\appdata\\roaming\\python\\python312\\site-packages (from google-auth~=2.0->databricks-sdk<1,>=0.20.0->mlflow-skinny==2.17.0->mlflow>=2.8->sagemaker-mlflow->sagemaker<3.0.0,>=2.232.1->cohere) (0.4.1)\n",
      "Requirement already satisfied: rsa<5,>=3.1.4 in c:\\users\\deepa\\appdata\\roaming\\python\\python312\\site-packages (from google-auth~=2.0->databricks-sdk<1,>=0.20.0->mlflow-skinny==2.17.0->mlflow>=2.8->sagemaker-mlflow->sagemaker<3.0.0,>=2.232.1->cohere) (4.9)\n",
      "Requirement already satisfied: pyasn1<0.7.0,>=0.4.6 in c:\\users\\deepa\\appdata\\roaming\\python\\python312\\site-packages (from pyasn1-modules>=0.2.1->google-auth~=2.0->databricks-sdk<1,>=0.20.0->mlflow-skinny==2.17.0->mlflow>=2.8->sagemaker-mlflow->sagemaker<3.0.0,>=2.232.1->cohere) (0.6.1)\n",
      "Note: you may need to restart the kernel to use updated packages.\n"
     ]
    },
    {
     "name": "stderr",
     "output_type": "stream",
     "text": [
      "DEPRECATION: Loading egg at c:\\program files\\python312\\lib\\site-packages\\vboxapi-1.0-py3.12.egg is deprecated. pip 24.3 will enforce this behaviour change. A possible replacement is to use pip for package installation. Discussion can be found at https://github.com/pypa/pip/issues/12330\n"
     ]
    }
   ],
   "source": [
    "pip install faiss-cpu sentence-transformers cohere\n"
   ]
  },
  {
   "cell_type": "code",
   "execution_count": 1,
   "id": "ab3e0469-85da-4ec7-b1b4-6b6376dce11d",
   "metadata": {},
   "outputs": [
    {
     "name": "stderr",
     "output_type": "stream",
     "text": [
      "C:\\Users\\deepa\\AppData\\Roaming\\Python\\Python312\\site-packages\\sentence_transformers\\cross_encoder\\CrossEncoder.py:13: TqdmWarning: IProgress not found. Please update jupyter and ipywidgets. See https://ipywidgets.readthedocs.io/en/stable/user_install.html\n",
      "  from tqdm.autonotebook import tqdm, trange\n"
     ]
    },
    {
     "name": "stdout",
     "output_type": "stream",
     "text": [
      "WARNING:tensorflow:From C:\\Users\\deepa\\AppData\\Roaming\\Python\\Python312\\site-packages\\tf_keras\\src\\losses.py:2976: The name tf.losses.sparse_softmax_cross_entropy is deprecated. Please use tf.compat.v1.losses.sparse_softmax_cross_entropy instead.\n",
      "\n"
     ]
    },
    {
     "name": "stderr",
     "output_type": "stream",
     "text": [
      "C:\\Users\\deepa\\AppData\\Roaming\\Python\\Python312\\site-packages\\huggingface_hub\\file_download.py:147: UserWarning: `huggingface_hub` cache-system uses symlinks by default to efficiently store duplicated files but your machine does not support them in C:\\Users\\deepa\\.cache\\huggingface\\hub\\models--sentence-transformers--multi-qa-MiniLM-L6-cos-v1. Caching files will still work but in a degraded version that might require more space on your disk. This warning can be disabled by setting the `HF_HUB_DISABLE_SYMLINKS_WARNING` environment variable. For more details, see https://huggingface.co/docs/huggingface_hub/how-to-cache#limitations.\n",
      "To support symlinks on Windows, you either need to activate Developer Mode or to run Python as an administrator. In order to activate developer mode, see this article: https://docs.microsoft.com/en-us/windows/apps/get-started/enable-your-device-for-development\n",
      "  warnings.warn(message)\n",
      "C:\\Users\\deepa\\AppData\\Roaming\\Python\\Python312\\site-packages\\transformers\\tokenization_utils_base.py:1617: FutureWarning: `clean_up_tokenization_spaces` was not set. It will be set to `True` by default. This behavior will be deprecated in transformers v4.45, and will be then set to `False` by default. For more details check this issue: https://github.com/huggingface/transformers/issues/31884\n",
      "  warnings.warn(\n",
      "C:\\Users\\deepa\\AppData\\Roaming\\Python\\Python312\\site-packages\\transformers\\models\\bert\\modeling_bert.py:440: UserWarning: 1Torch was not compiled with flash attention. (Triggered internally at C:\\actions-runner\\_work\\pytorch\\pytorch\\builder\\windows\\pytorch\\aten\\src\\ATen\\native\\transformers\\cuda\\sdp_utils.cpp:555.)\n",
      "  attn_output = torch.nn.functional.scaled_dot_product_attention(\n"
     ]
    }
   ],
   "source": [
    "from sentence_transformers import SentenceTransformer\n",
    "\n",
    "# Example document corpus\n",
    "documents = [\n",
    "    \"Pinecone is a vector database for machine learning applications.\",\n",
    "    \"Cohere provides APIs for natural language processing tasks like text generation.\",\n",
    "    \"Sentence Transformers is a library that allows easy embedding of sentences.\"\n",
    "]\n",
    "\n",
    "# Load a pre-trained sentence transformer model to generate embeddings\n",
    "model = SentenceTransformer('multi-qa-MiniLM-L6-cos-v1')\n",
    "\n",
    "# Generate embeddings for the documents\n",
    "embeddings = model.encode(documents)\n"
   ]
  },
  {
   "cell_type": "code",
   "execution_count": 2,
   "id": "b4a90d0d-05d8-43f5-b7d4-3df0ee29d013",
   "metadata": {},
   "outputs": [
    {
     "name": "stdout",
     "output_type": "stream",
     "text": [
      "Total documents in index: 3\n"
     ]
    }
   ],
   "source": [
    "import faiss\n",
    "import numpy as np\n",
    "\n",
    "# Get the dimensionality of embeddings\n",
    "embedding_dim = embeddings.shape[1]\n",
    "\n",
    "# Initialize a FAISS index (Flat Index is simplest for small datasets)\n",
    "index = faiss.IndexFlatL2(embedding_dim)\n",
    "\n",
    "# Convert embeddings to numpy array (required by FAISS)\n",
    "embeddings = np.array(embeddings)\n",
    "\n",
    "# Add document embeddings to the FAISS index\n",
    "index.add(embeddings)\n",
    "\n",
    "# Check the total number of vectors in the index\n",
    "print(f\"Total documents in index: {index.ntotal}\")\n"
   ]
  },
  {
   "cell_type": "code",
   "execution_count": 3,
   "id": "0f23803b-3770-4fca-b4e0-778c10743a71",
   "metadata": {},
   "outputs": [
    {
     "name": "stdout",
     "output_type": "stream",
     "text": [
      "Retrieved Documents: ['Pinecone is a vector database for machine learning applications.', 'Cohere provides APIs for natural language processing tasks like text generation.', 'Sentence Transformers is a library that allows easy embedding of sentences.']\n"
     ]
    }
   ],
   "source": [
    "# Example query from the user\n",
    "query = \"What is Pinecone?\"\n",
    "\n",
    "# Convert the query into an embedding\n",
    "query_embedding = model.encode([query])\n",
    "\n",
    "# Perform similarity search in FAISS (returns indices of top k results)\n",
    "k = 3  # Number of nearest neighbors to retrieve\n",
    "distances, indices = index.search(np.array(query_embedding), k)\n",
    "\n",
    "# Print out the retrieved documents\n",
    "retrieved_docs = [documents[i] for i in indices[0]]\n",
    "print(\"Retrieved Documents:\", retrieved_docs)\n"
   ]
  },
  {
   "cell_type": "code",
   "execution_count": 6,
   "id": "6d00ee5e-5822-4bc1-9cad-bc53b7ecb330",
   "metadata": {},
   "outputs": [
    {
     "name": "stdout",
     "output_type": "stream",
     "text": [
      "Generated Answer: Pinecone is a vector database for machine learning applications.\n"
     ]
    }
   ],
   "source": [
    "import cohere\n",
    "\n",
    "# Initialize Cohere with your API key\n",
    "cohere_client = cohere.Client('qFR72UQsWpnuLJW4cU7bP6R10X4sBd4lZNszGTJN')\n",
    "\n",
    "# Combine retrieved documents into a single context\n",
    "retrieved_context = \" \".join(retrieved_docs)\n",
    "\n",
    "# Use Cohere's generation API to create a coherent answer\n",
    "response = cohere_client.generate(\n",
    "    model='command-xlarge-nightly',\n",
    "    prompt=f\"Question: {query}\\nContext: {retrieved_context}\\nAnswer:\",\n",
    "    max_tokens=100\n",
    ")\n",
    "\n",
    "# Print the generated answer\n",
    "print(\"Generated Answer:\", response.generations[0].text.strip())\n"
   ]
  },
  {
   "cell_type": "code",
   "execution_count": 8,
   "id": "a109dfff-5f5e-42e6-b0ae-9b551350f92d",
   "metadata": {},
   "outputs": [
    {
     "name": "stdout",
     "output_type": "stream",
     "text": [
      "Question: Tell me about Cohere.\n",
      "Generated Answer: Cohere is a Canadian startup that provides natural language processing (NLP) models for text generation, classification, and search. It was founded in 2019 by Aidan Gomez (CEO), Ivan Zhang (CTO), and Nick Frosst to address the growing demand for large language models in various industries.\n",
      "\n",
      "The company's mission is to make advanced NLP technology accessible to developers and businesses, enabling them to build intelligent applications that can understand and process human language. Cohere's products are designed\n",
      "--------------------------------------------------\n",
      "Question: What can Sentence Transformers do?\n",
      "Generated Answer: Sentence Transformers is a library that allows easy embedding of sentences.\n",
      "--------------------------------------------------\n",
      "Question: What is a vector database?\n",
      "Generated Answer: A vector database is a database that stores vectors and allows for efficient similarity search.\n",
      "--------------------------------------------------\n"
     ]
    }
   ],
   "source": [
    "queries = [\"Tell me about Cohere.\", \"What can Sentence Transformers do?\", \"What is a vector database?\"]\n",
    "\n",
    "for q in queries:\n",
    "    # Convert each query into an embedding\n",
    "    query_embedding = model.encode([q])\n",
    "    \n",
    "    # Retrieve relevant documents from FAISS\n",
    "    distances, indices = index.search(np.array(query_embedding), k)\n",
    "    retrieved_docs = [documents[i] for i in indices[0]]\n",
    "    \n",
    "    # Create the context from retrieved documents\n",
    "    retrieved_context = \" \".join(retrieved_docs)\n",
    "    \n",
    "    # Generate the answer using Cohere\n",
    "    response = cohere_client.generate(\n",
    "        model='command-xlarge-nightly',\n",
    "        prompt=f\"Question: {q}\\nContext: {retrieved_context}\\nAnswer:\",\n",
    "        max_tokens=100\n",
    "    )\n",
    "    \n",
    "    print(f\"Question: {q}\")\n",
    "    print(f\"Generated Answer: {response.generations[0].text.strip()}\")\n",
    "    print(\"-\" * 50)\n"
   ]
  },
  {
   "cell_type": "code",
   "execution_count": 9,
   "id": "b4a65f3e-b9f2-45e4-9c2b-b698e7ed1683",
   "metadata": {},
   "outputs": [
    {
     "name": "stderr",
     "output_type": "stream",
     "text": [
      "C:\\Users\\deepa\\AppData\\Roaming\\Python\\Python312\\site-packages\\transformers\\tokenization_utils_base.py:1617: FutureWarning: `clean_up_tokenization_spaces` was not set. It will be set to `True` by default. This behavior will be deprecated in transformers v4.45, and will be then set to `False` by default. For more details check this issue: https://github.com/huggingface/transformers/issues/31884\n",
      "  warnings.warn(\n"
     ]
    }
   ],
   "source": [
    "import fitz  # PyMuPDF for handling PDFs\n",
    "from sentence_transformers import SentenceTransformer\n",
    "import faiss\n",
    "import numpy as np\n",
    "import cohere\n",
    "\n",
    "# Load Cohere API and Sentence Transformers\n",
    "cohere_client = cohere.Client('qFR72UQsWpnuLJW4cU7bP6R10X4sBd4lZNszGTJN')\n",
    "model = SentenceTransformer('multi-qa-MiniLM-L6-cos-v1')\n",
    "\n",
    "# Function to extract text from PDF\n",
    "def extract_text_from_pdf(pdf_file):\n",
    "    doc = fitz.open(pdf_file)\n",
    "    text = \"\"\n",
    "    for page in doc:\n",
    "        text += page.get_text(\"text\")\n",
    "    return text\n",
    "\n",
    "# Function to create embeddings and index with FAISS\n",
    "def create_faiss_index(documents):\n",
    "    embeddings = model.encode(documents)\n",
    "    embedding_dim = embeddings.shape[1]\n",
    "    index = faiss.IndexFlatL2(embedding_dim)\n",
    "    embeddings = np.array(embeddings)\n",
    "    index.add(embeddings)\n",
    "    return index, embeddings\n",
    "\n",
    "# Function to search FAISS index\n",
    "def search_faiss_index(query, index, documents, k=3):\n",
    "    query_embedding = model.encode([query])\n",
    "    distances, indices = index.search(np.array(query_embedding), k)\n",
    "    retrieved_docs = [documents[i] for i in indices[0]]\n",
    "    return retrieved_docs\n"
   ]
  },
  {
   "cell_type": "code",
   "execution_count": null,
   "id": "82b68c57-dd15-4b46-924a-73b1234cd252",
   "metadata": {},
   "outputs": [],
   "source": []
  }
 ],
 "metadata": {
  "kernelspec": {
   "display_name": "Python 3 (ipykernel)",
   "language": "python",
   "name": "python3"
  },
  "language_info": {
   "codemirror_mode": {
    "name": "ipython",
    "version": 3
   },
   "file_extension": ".py",
   "mimetype": "text/x-python",
   "name": "python",
   "nbconvert_exporter": "python",
   "pygments_lexer": "ipython3",
   "version": "3.12.6"
  }
 },
 "nbformat": 4,
 "nbformat_minor": 5
}
